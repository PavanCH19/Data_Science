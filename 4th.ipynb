{
 "cells": [
  {
   "cell_type": "markdown",
   "id": "7ae6defc-ec54-4451-b0fa-5432581398e5",
   "metadata": {},
   "source": [
    "For a given set of training data examples stored in a .CSV file, implement and demonstrate the Find-S\n",
    "algorithm to output a description of the set of all hypotheses consistent with the training examples."
   ]
  },
  {
   "cell_type": "code",
   "execution_count": 1,
   "id": "81fa5fc7-4dfa-4f86-bc05-c2e14021294a",
   "metadata": {},
   "outputs": [],
   "source": [
    "import pandas as pd"
   ]
  },
  {
   "cell_type": "code",
   "execution_count": 2,
   "id": "33a80cd9-4901-4902-b534-8beb99b51085",
   "metadata": {},
   "outputs": [
    {
     "data": {
      "text/html": [
       "<div>\n",
       "<style scoped>\n",
       "    .dataframe tbody tr th:only-of-type {\n",
       "        vertical-align: middle;\n",
       "    }\n",
       "\n",
       "    .dataframe tbody tr th {\n",
       "        vertical-align: top;\n",
       "    }\n",
       "\n",
       "    .dataframe thead th {\n",
       "        text-align: right;\n",
       "    }\n",
       "</style>\n",
       "<table border=\"1\" class=\"dataframe\">\n",
       "  <thead>\n",
       "    <tr style=\"text-align: right;\">\n",
       "      <th></th>\n",
       "      <th>Outlook</th>\n",
       "      <th>Temperature</th>\n",
       "      <th>Humidity</th>\n",
       "      <th>Windy</th>\n",
       "      <th>PlayTennis</th>\n",
       "    </tr>\n",
       "  </thead>\n",
       "  <tbody>\n",
       "    <tr>\n",
       "      <th>0</th>\n",
       "      <td>Sunny</td>\n",
       "      <td>Hot</td>\n",
       "      <td>High</td>\n",
       "      <td>False</td>\n",
       "      <td>No</td>\n",
       "    </tr>\n",
       "    <tr>\n",
       "      <th>1</th>\n",
       "      <td>Sunny</td>\n",
       "      <td>Hot</td>\n",
       "      <td>High</td>\n",
       "      <td>True</td>\n",
       "      <td>No</td>\n",
       "    </tr>\n",
       "    <tr>\n",
       "      <th>2</th>\n",
       "      <td>Overcast</td>\n",
       "      <td>Hot</td>\n",
       "      <td>High</td>\n",
       "      <td>False</td>\n",
       "      <td>Yes</td>\n",
       "    </tr>\n",
       "    <tr>\n",
       "      <th>3</th>\n",
       "      <td>Rain</td>\n",
       "      <td>Cold</td>\n",
       "      <td>High</td>\n",
       "      <td>False</td>\n",
       "      <td>Yes</td>\n",
       "    </tr>\n",
       "    <tr>\n",
       "      <th>4</th>\n",
       "      <td>Rain</td>\n",
       "      <td>Cold</td>\n",
       "      <td>High</td>\n",
       "      <td>True</td>\n",
       "      <td>No</td>\n",
       "    </tr>\n",
       "    <tr>\n",
       "      <th>5</th>\n",
       "      <td>Overcast</td>\n",
       "      <td>Hot</td>\n",
       "      <td>High</td>\n",
       "      <td>True</td>\n",
       "      <td>Yes</td>\n",
       "    </tr>\n",
       "    <tr>\n",
       "      <th>6</th>\n",
       "      <td>Sunny</td>\n",
       "      <td>Hot</td>\n",
       "      <td>High</td>\n",
       "      <td>False</td>\n",
       "      <td>No</td>\n",
       "    </tr>\n",
       "  </tbody>\n",
       "</table>\n",
       "</div>"
      ],
      "text/plain": [
       "    Outlook Temperature Humidity  Windy PlayTennis\n",
       "0     Sunny         Hot     High  False         No\n",
       "1     Sunny         Hot     High   True         No\n",
       "2  Overcast         Hot     High  False        Yes\n",
       "3      Rain        Cold     High  False        Yes\n",
       "4      Rain        Cold     High   True         No\n",
       "5  Overcast         Hot     High   True        Yes\n",
       "6     Sunny         Hot     High  False         No"
      ]
     },
     "execution_count": 2,
     "metadata": {},
     "output_type": "execute_result"
    }
   ],
   "source": [
    "data = pd.read_csv(\"training_data.csv\")\n",
    "data"
   ]
  },
  {
   "cell_type": "code",
   "execution_count": 3,
   "id": "7d425931-a301-43ea-b3c0-032cac7fd164",
   "metadata": {},
   "outputs": [
    {
     "data": {
      "text/plain": [
       "(Index(['Outlook', 'Temperature', 'Humidity', 'Windy'], dtype='object'),\n",
       " 'PlayTennis')"
      ]
     },
     "execution_count": 3,
     "metadata": {},
     "output_type": "execute_result"
    }
   ],
   "source": [
    "attributes = data.columns[:-1]\n",
    "class_label = data.columns[-1]\n",
    "attributes, class_label"
   ]
  },
  {
   "cell_type": "code",
   "execution_count": 4,
   "id": "169cdcae-d67c-4353-bb02-8114586deef5",
   "metadata": {},
   "outputs": [
    {
     "data": {
      "text/plain": [
       "['?', '?', '?', '?']"
      ]
     },
     "execution_count": 4,
     "metadata": {},
     "output_type": "execute_result"
    }
   ],
   "source": [
    "hypothesis = [\"?\" for _ in attributes]\n",
    "hypothesis"
   ]
  },
  {
   "cell_type": "code",
   "execution_count": 5,
   "id": "54003486-ae96-43bf-b929-c9db6f507507",
   "metadata": {},
   "outputs": [],
   "source": [
    "for index, row in data.iterrows():\n",
    "    if row[class_label] == 'Yes':\n",
    "        for i, value in enumerate(row[attributes]):\n",
    "            if hypothesis[i] == '?' or hypothesis[i] == value:\n",
    "                hypothesis[i] = value\n",
    "            else: \n",
    "                hypothesis[i] = '?'"
   ]
  },
  {
   "cell_type": "code",
   "execution_count": 6,
   "id": "5571a7ff-fc3e-4f96-af46-78fdf6a58241",
   "metadata": {},
   "outputs": [
    {
     "data": {
      "text/plain": [
       "['Overcast', 'Hot', 'High', '?']"
      ]
     },
     "execution_count": 6,
     "metadata": {},
     "output_type": "execute_result"
    }
   ],
   "source": [
    "hypothesis"
   ]
  },
  {
   "cell_type": "code",
   "execution_count": null,
   "id": "e1cd349f-c8e7-4ac3-b8f2-8da6cb3cae69",
   "metadata": {},
   "outputs": [],
   "source": []
  }
 ],
 "metadata": {
  "kernelspec": {
   "display_name": "Python 3 (ipykernel)",
   "language": "python",
   "name": "python3"
  },
  "language_info": {
   "codemirror_mode": {
    "name": "ipython",
    "version": 3
   },
   "file_extension": ".py",
   "mimetype": "text/x-python",
   "name": "python",
   "nbconvert_exporter": "python",
   "pygments_lexer": "ipython3",
   "version": "3.12.7"
  }
 },
 "nbformat": 4,
 "nbformat_minor": 5
}
