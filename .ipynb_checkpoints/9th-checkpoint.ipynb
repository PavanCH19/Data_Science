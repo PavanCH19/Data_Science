{
 "cells": [
  {
   "cell_type": "markdown",
   "id": "ca6f1c26-c815-4f2b-9784-a03c005a6ee9",
   "metadata": {},
   "source": [
    "Develop a program to implement the Naive Bayesian classifier considering Olivetti Face Data set for training.\n",
    "Compute the accuracy of the classifier, considering a few test data sets. "
   ]
  },
  {
   "cell_type": "code",
   "execution_count": null,
   "id": "df1f29fa-5a45-4e12-a780-68007294dced",
   "metadata": {},
   "outputs": [],
   "source": [
    "import matplotlib.pyplot as plt\n",
    "from sklearn.datasets import fetch_olivetti_faces\n",
    "from sklearn.metrics import accuracy_score, classification_report, confusion_matrix\n",
    "from sklearn.model_selection import train_test_split, cross_val_score\n",
    "from sklearn.naive_bayes import GaussianNB"
   ]
  },
  {
   "cell_type": "code",
   "execution_count": null,
   "id": "3fa071df-e2af-4f94-90a2-e19f30a947b5",
   "metadata": {},
   "outputs": [],
   "source": [
    "data = fetch_olivetti_faces(shuffle=True, random_state=42)\n",
    "X = data.data\n",
    "y = data.target"
   ]
  },
  {
   "cell_type": "code",
   "execution_count": null,
   "id": "774df0c0-e943-4432-9f4f-8e2846cb2cff",
   "metadata": {},
   "outputs": [],
   "source": [
    "X_train, X_test, y_train, y_test = train_test_split(X, y, test_size=0.3, random_state=42)"
   ]
  },
  {
   "cell_type": "code",
   "execution_count": null,
   "id": "1040808b-a152-4714-9076-9f15a91801da",
   "metadata": {},
   "outputs": [],
   "source": [
    "gsb = GaussianNB()\n",
    "gsb.fit(X_train, y_train)\n",
    "y_pred = gsb.predict(X_test)"
   ]
  },
  {
   "cell_type": "code",
   "execution_count": null,
   "id": "a7b01241-81c6-4b66-8b3d-169c2fa7cbba",
   "metadata": {},
   "outputs": [],
   "source": [
    "accuracy_score(y_test, y_pred)*100"
   ]
  },
  {
   "cell_type": "code",
   "execution_count": null,
   "id": "c6b3a3e2-5583-4d55-9971-eb2e428b55d9",
   "metadata": {},
   "outputs": [],
   "source": [
    "confusion_matrix(y_test, y_pred)"
   ]
  },
  {
   "cell_type": "code",
   "execution_count": null,
   "id": "399ad88e-425a-4204-947a-426c862ae1f9",
   "metadata": {},
   "outputs": [],
   "source": [
    "print(classification_report(y_test, y_pred))"
   ]
  },
  {
   "cell_type": "code",
   "execution_count": null,
   "id": "a3a7f374-f199-4752-b077-a6d8355eb813",
   "metadata": {},
   "outputs": [],
   "source": [
    "cross_val_accuracy = cross_val_score(gsb, X, y, cv=5, scoring='accuracy')\n",
    "print(f'\\nCross-validation accuracy: {cross_val_accuracy.mean() * 100:.2f}%')"
   ]
  },
  {
   "cell_type": "code",
   "execution_count": null,
   "id": "c84d404f-112a-496b-905c-1b8277f883d3",
   "metadata": {},
   "outputs": [],
   "source": [
    "fig, axes = plt.subplots(3, 5, figsize=(12, 8))\n",
    "for ax, image, label, prediction in zip(axes.ravel(), X_test, y_test, y_pred):\n",
    "    ax.imshow(image.reshape(64, 64), cmap=plt.cm.gray)\n",
    "    ax.set_title(f\"True: {label}, Pred: {prediction}\")\n",
    "    ax.axis('off')\n",
    "plt.show()"
   ]
  },
  {
   "cell_type": "code",
   "execution_count": null,
   "id": "0c71c0c3-f1ab-47cf-ac2a-322d6ddacd0b",
   "metadata": {},
   "outputs": [],
   "source": []
  }
 ],
 "metadata": {
  "kernelspec": {
   "display_name": "Python 3 (ipykernel)",
   "language": "python",
   "name": "python3"
  },
  "language_info": {
   "codemirror_mode": {
    "name": "ipython",
    "version": 3
   },
   "file_extension": ".py",
   "mimetype": "text/x-python",
   "name": "python",
   "nbconvert_exporter": "python",
   "pygments_lexer": "ipython3",
   "version": "3.12.7"
  }
 },
 "nbformat": 4,
 "nbformat_minor": 5
}
