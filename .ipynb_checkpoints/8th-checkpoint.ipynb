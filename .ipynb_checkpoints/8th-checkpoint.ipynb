{
 "cells": [
  {
   "cell_type": "markdown",
   "id": "4820596c-6f8c-4974-b09a-9c02aaa46ec6",
   "metadata": {},
   "source": [
    "Develop a program to demonstrate the working of the decision tree algorithm. Use Breast Cancer Data set\n",
    "for building the decision tree and apply this knowledge to classify a new sample. "
   ]
  },
  {
   "cell_type": "code",
   "execution_count": null,
   "id": "6b369886-a853-4c4e-8383-08be4c2b094e",
   "metadata": {},
   "outputs": [],
   "source": [
    "import matplotlib.pyplot as plt\n",
    "from sklearn.datasets import load_breast_cancer\n",
    "from sklearn.tree import DecisionTreeClassifier\n",
    "from sklearn import tree\n",
    "from sklearn.model_selection import train_test_split\n",
    "from sklearn.metrics import accuracy_score"
   ]
  },
  {
   "cell_type": "code",
   "execution_count": null,
   "id": "eb6ee740-2772-4c75-baf7-55bf18387741",
   "metadata": {},
   "outputs": [],
   "source": [
    "data = load_breast_cancer(as_frame=True)\n",
    "df = data.frame"
   ]
  },
  {
   "cell_type": "code",
   "execution_count": null,
   "id": "ee7e94fd-a5dc-4685-a55a-1f61f1e58fa2",
   "metadata": {},
   "outputs": [],
   "source": [
    "X = data.data\n",
    "y = data.target"
   ]
  },
  {
   "cell_type": "code",
   "execution_count": null,
   "id": "12369989-5797-4f6a-b683-8c522371f92c",
   "metadata": {},
   "outputs": [],
   "source": [
    "X_train, X_test, y_train, y_test = train_test_split(X, y, test_size=0.2, random_state=42)"
   ]
  },
  {
   "cell_type": "code",
   "execution_count": null,
   "id": "dbc038a5-4ab3-4ddd-9975-7f9b3f3aa73f",
   "metadata": {},
   "outputs": [],
   "source": [
    "d_tree = DecisionTreeClassifier()\n",
    "d_tree.fit(X_train, y_train)\n",
    "y_pred = d_tree.predict(X_test)"
   ]
  },
  {
   "cell_type": "code",
   "execution_count": null,
   "id": "aa4fadf4-49f1-4dc7-878f-8163db9acce1",
   "metadata": {},
   "outputs": [],
   "source": [
    "accuracy_score(y_test, y_pred)*100"
   ]
  },
  {
   "cell_type": "code",
   "execution_count": null,
   "id": "80c05752-5c6c-4e74-8546-78ffb6630ea8",
   "metadata": {},
   "outputs": [],
   "source": [
    "new_sample = X_train.iloc[[0]]\n",
    "prediction = d_tree.predict(new_sample)"
   ]
  },
  {
   "cell_type": "code",
   "execution_count": null,
   "id": "c845d998-39b3-45b2-9642-31a83a33b75d",
   "metadata": {},
   "outputs": [],
   "source": [
    "prediction_value = \"benign\" if prediction == 0 else \"malignant\"\n",
    "prediction_value"
   ]
  },
  {
   "cell_type": "code",
   "execution_count": null,
   "id": "8fd55752-8376-420e-b2db-c64e7dbf5630",
   "metadata": {},
   "outputs": [],
   "source": [
    "plt.figure(figsize=(10,8))\n",
    "tree.plot_tree(d_tree, filled=True)\n",
    "plt.show()"
   ]
  },
  {
   "cell_type": "code",
   "execution_count": null,
   "id": "00f0c7d1-b562-466f-a7df-e9d4f562b7c6",
   "metadata": {},
   "outputs": [],
   "source": []
  }
 ],
 "metadata": {
  "kernelspec": {
   "display_name": "Python 3 (ipykernel)",
   "language": "python",
   "name": "python3"
  },
  "language_info": {
   "codemirror_mode": {
    "name": "ipython",
    "version": 3
   },
   "file_extension": ".py",
   "mimetype": "text/x-python",
   "name": "python",
   "nbconvert_exporter": "python",
   "pygments_lexer": "ipython3",
   "version": "3.12.7"
  }
 },
 "nbformat": 4,
 "nbformat_minor": 5
}
